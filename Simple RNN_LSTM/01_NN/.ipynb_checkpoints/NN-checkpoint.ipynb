{
 "cells": [
  {
   "cell_type": "code",
   "execution_count": 3,
   "metadata": {
    "collapsed": true
   },
   "outputs": [],
   "source": [
    "import numpy\n",
    "import os"
   ]
  },
  {
   "cell_type": "code",
   "execution_count": 4,
   "metadata": {
    "collapsed": true
   },
   "outputs": [],
   "source": [
    "def NN(m1, m2, w1, w2, b):\n",
    "    z = m1 * w1 + m2 * w2 + b\n",
    "    return sigmoid(z)\n",
    "\n",
    "def sigmoid(x):\n",
    "    return 1/(1 + numpy.exp(-x))"
   ]
  },
  {
   "cell_type": "code",
   "execution_count": 5,
   "metadata": {},
   "outputs": [],
   "source": [
    "w1 = numpy.random.randn() #回傳具有常態分佈的數據\n",
    "w2 = numpy.random.randn() #回傳具有常態分佈的數據\n",
    "b = numpy.random.randn() #回傳具有常態分佈的數據"
   ]
  },
  {
   "cell_type": "code",
   "execution_count": 7,
   "metadata": {},
   "outputs": [
    {
     "data": {
      "text/plain": [
       "0.5363813628199077"
      ]
     },
     "execution_count": 7,
     "metadata": {},
     "output_type": "execute_result"
    }
   ],
   "source": [
    "NN(3,1.5,w1,w2,b)"
   ]
  },
  {
   "cell_type": "code",
   "execution_count": 39,
   "metadata": {},
   "outputs": [
    {
     "name": "stdout",
     "output_type": "stream",
     "text": [
      "這個看起來像是紅色\n",
      "真的是紅色\n"
     ]
    }
   ],
   "source": [
    "phrases = ['看起來像', '我猜是', '我想是', '可能是', '看起來像是', '猜測....']\n",
    "data = [[3,1.5,1],[2,1,0],[4,1.5,1],[3,1,0],[3.5,5,1],[2,0.5,0],[5.5,1,1],[1,1,0]]\n",
    "rand_data = data[numpy.random.randint(len(data))] #隨機產生len(data)-1的index\n",
    "m1 = rand_data[0]\n",
    "m2 = rand_data[1]\n",
    "\n",
    "prediction = NN(m1,m2,w1,w2,b)\n",
    "prediction_text = ['藍色','紅色'][int(numpy.round(prediction))] #取四捨五入後的數值\n",
    "phrase = numpy.random.choice(phrases) + \"\" + prediction_text #隨機取phrases\n",
    "o =('這個' + phrase + \"\\n真的是\"+ ['藍色','紅色'][rand_data[2]])\n",
    "print(o)"
   ]
  },
  {
   "cell_type": "code",
   "execution_count": 41,
   "metadata": {},
   "outputs": [],
   "source": [
    "from gtts import gTTS\n",
    "import os\n",
    "tts = gTTS(o, lang='zh-tw')\n",
    "tts.save(\"hello.mp3\")\n",
    "\n",
    "from pygame import mixer\n",
    "mixer.init()\n",
    "mixer.music.load('hello.mp3')\n",
    "mixer.music.play()"
   ]
  }
 ],
 "metadata": {
  "kernelspec": {
   "display_name": "Python 3",
   "language": "python",
   "name": "python3"
  },
  "language_info": {
   "codemirror_mode": {
    "name": "ipython",
    "version": 3
   },
   "file_extension": ".py",
   "mimetype": "text/x-python",
   "name": "python",
   "nbconvert_exporter": "python",
   "pygments_lexer": "ipython3",
   "version": "3.6.3"
  }
 },
 "nbformat": 4,
 "nbformat_minor": 2
}
