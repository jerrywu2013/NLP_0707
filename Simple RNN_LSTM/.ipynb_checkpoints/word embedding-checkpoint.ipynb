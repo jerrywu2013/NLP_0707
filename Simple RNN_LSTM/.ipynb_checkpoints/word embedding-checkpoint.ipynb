{
 "cells": [
  {
   "cell_type": "code",
   "execution_count": 7,
   "metadata": {},
   "outputs": [
    {
     "data": {
      "text/plain": [
       "<torch._C.Generator at 0x10751a0f0>"
      ]
     },
     "execution_count": 7,
     "metadata": {},
     "output_type": "execute_result"
    }
   ],
   "source": [
    "import torch\n",
    "import torch.nn as nn\n",
    "import torch.nn.functional as F\n",
    "import torch.optim as optim\n",
    "from torch.autograd import Variable\n",
    "\n",
    "torch.manual_seed(1)"
   ]
  },
  {
   "cell_type": "code",
   "execution_count": 8,
   "metadata": {},
   "outputs": [
    {
     "name": "stdout",
     "output_type": "stream",
     "text": [
      "tensor([[ 0.6614,  0.2669,  0.0617,  0.6213, -0.4519]])\n"
     ]
    }
   ],
   "source": [
    "word_to_ix = {\"hello\": 0, \"world\": 1}\n",
    "embeds = nn.Embedding(2, 5)  # 2 words in vocab, 5 dimensional embeddings\n",
    "lookup_tensor = torch.tensor([word_to_ix[\"hello\"]], dtype=torch.long)\n",
    "hello_embed = embeds(lookup_tensor)\n",
    "print(hello_embed)"
   ]
  },
  {
   "cell_type": "code",
   "execution_count": 9,
   "metadata": {},
   "outputs": [],
   "source": [
    "hello_idx = torch.LongTensor([word_to_ix['hello']])\n",
    "hello_idx = Variable(hello_idx)"
   ]
  },
  {
   "cell_type": "code",
   "execution_count": 10,
   "metadata": {},
   "outputs": [
    {
     "data": {
      "text/plain": [
       "tensor([ 0])"
      ]
     },
     "execution_count": 10,
     "metadata": {},
     "output_type": "execute_result"
    }
   ],
   "source": [
    "hello_idx"
   ]
  },
  {
   "cell_type": "code",
   "execution_count": 12,
   "metadata": {},
   "outputs": [
    {
     "name": "stdout",
     "output_type": "stream",
     "text": [
      "[(['今天', '天氣'], '如何'), (['天氣', '如何'], '你'), (['如何', '你'], '好')]\n",
      "[7.557050466537476, 7.493309736251831, 7.430240154266357, 7.367831707000732, 7.306158423423767, 7.245250225067139, 7.184972047805786, 7.1253156661987305, 7.06627345085144, 7.007836818695068]\n"
     ]
    }
   ],
   "source": [
    "CONTEXT_SIZE = 2\n",
    "EMBEDDING_DIM = 10\n",
    "# We will use Shakespeare Sonnet 2\n",
    "test_sentence = \"\"\"今天 天氣 如何 你 好 嗎\"\"\".split()\n",
    "# we should tokenize the input, but we will ignore that for now\n",
    "# build a list of tuples.  Each tuple is ([ word_i-2, word_i-1 ], target word)\n",
    "trigrams = [([test_sentence[i], test_sentence[i + 1]], test_sentence[i + 2])\n",
    "            for i in range(len(test_sentence) - 2)]\n",
    "# print the first 3, just so you can see what they look like\n",
    "print(trigrams[:3])\n",
    "\n",
    "vocab = set(test_sentence)\n",
    "word_to_ix = {word: i for i, word in enumerate(vocab)}\n",
    "\n",
    "\n",
    "class NGramLanguageModeler(nn.Module):\n",
    "\n",
    "    def __init__(self, vocab_size, embedding_dim, context_size):\n",
    "        super(NGramLanguageModeler, self).__init__()\n",
    "        self.embeddings = nn.Embedding(vocab_size, embedding_dim)\n",
    "        self.linear1 = nn.Linear(context_size * embedding_dim, 128)\n",
    "        self.linear2 = nn.Linear(128, vocab_size)\n",
    "\n",
    "    def forward(self, inputs):\n",
    "        embeds = self.embeddings(inputs).view((1, -1))\n",
    "        out = F.relu(self.linear1(embeds))\n",
    "        out = self.linear2(out)\n",
    "        log_probs = F.log_softmax(out, dim=1)\n",
    "        return log_probs\n",
    "\n",
    "\n",
    "losses = []\n",
    "loss_function = nn.NLLLoss()\n",
    "model = NGramLanguageModeler(len(vocab), EMBEDDING_DIM, CONTEXT_SIZE)\n",
    "optimizer = optim.SGD(model.parameters(), lr=0.001)\n",
    "\n",
    "for epoch in range(10):\n",
    "    total_loss = 0\n",
    "    for context, target in trigrams:\n",
    "\n",
    "        # Step 1. Prepare the inputs to be passed to the model (i.e, turn the words\n",
    "        # into integer indices and wrap them in tensors)\n",
    "        context_idxs = torch.tensor([word_to_ix[w] for w in context], dtype=torch.long)\n",
    "\n",
    "        # Step 2. Recall that torch *accumulates* gradients. Before passing in a\n",
    "        # new instance, you need to zero out the gradients from the old\n",
    "        # instance\n",
    "        model.zero_grad()\n",
    "\n",
    "        # Step 3. Run the forward pass, getting log probabilities over next\n",
    "        # words\n",
    "        log_probs = model(context_idxs)\n",
    "\n",
    "        # Step 4. Compute your loss function. (Again, Torch wants the target\n",
    "        # word wrapped in a tensor)\n",
    "        loss = loss_function(log_probs, torch.tensor([word_to_ix[target]], dtype=torch.long))\n",
    "\n",
    "        # Step 5. Do the backward pass and update the gradient\n",
    "        loss.backward()\n",
    "        optimizer.step()\n",
    "\n",
    "        # Get the Python number from a 1-element Tensor by calling tensor.item()\n",
    "        total_loss += loss.item()\n",
    "    losses.append(total_loss)\n",
    "print(losses)  # The loss decreased every iteration over the training data!"
   ]
  },
  {
   "cell_type": "code",
   "execution_count": 15,
   "metadata": {},
   "outputs": [
    {
     "name": "stdout",
     "output_type": "stream",
     "text": [
      "[(['民進黨', '備戰', '縣市長', '選舉'], '年底'), (['備戰', '年底', '選舉', '加緊腳步'], '縣市長'), (['年底', '縣市長', '加緊腳步', '改革'], '選舉'), (['縣市長', '選舉', '改革', '拚'], '加緊腳步'), (['選舉', '加緊腳步', '拚', '政績'], '改革')]\n"
     ]
    },
    {
     "data": {
      "text/plain": [
       "tensor([  7,  50,  28,   8])"
      ]
     },
     "execution_count": 15,
     "metadata": {},
     "output_type": "execute_result"
    }
   ],
   "source": [
    "CONTEXT_SIZE = 2  # 2 words to the left, 2 to the right\n",
    "raw_text = \"\"\"民進黨 備戰 年底 縣市長 選舉 加緊腳步 改革 拚 政績\n",
    "不過 有時 官員 為 了 辯護 政策 發言 卻 被 認為 脫離現實 經常 遭 在野黨\n",
    "或 網友 調侃 最近 行政院長 賴清德 對外 解釋 非核 家園 政策 並非 躁進\n",
    "也 盼 外界 再 備載 容量 剩得 不夠 多 渲染 成 缺電 此番 言論 就 被 名嘴 黃 創夏 反諷 院長 沒有 智商 問\n",
    "題 只是 腦子 太小\"\"\".split()\n",
    "\n",
    "# By deriving a set from `raw_text`, we deduplicate the array\n",
    "vocab = set(raw_text)\n",
    "vocab_size = len(vocab)\n",
    "\n",
    "word_to_ix = {word: i for i, word in enumerate(vocab)}\n",
    "data = []\n",
    "for i in range(2, len(raw_text) - 2):\n",
    "    context = [raw_text[i - 2], raw_text[i - 1],\n",
    "               raw_text[i + 1], raw_text[i + 2]]\n",
    "    target = raw_text[i]\n",
    "    data.append((context, target))\n",
    "print(data[:5])\n",
    "\n",
    "\n",
    "class CBOW(nn.Module):\n",
    "\n",
    "    def __init__(self):\n",
    "        pass\n",
    "\n",
    "    def forward(self, inputs):\n",
    "        pass\n",
    "\n",
    "\n",
    "def make_context_vector(context, word_to_ix):\n",
    "    idxs = [word_to_ix[w] for w in context]\n",
    "    return torch.tensor(idxs, dtype=torch.long)\n",
    "\n",
    "\n",
    "make_context_vector(data[0][0], word_to_ix)  # example"
   ]
  },
  {
   "cell_type": "code",
   "execution_count": 20,
   "metadata": {},
   "outputs": [
    {
     "data": {
      "text/plain": [
       "(['民進黨', '備戰', '縣市長', '選舉'], '年底')"
      ]
     },
     "execution_count": 20,
     "metadata": {},
     "output_type": "execute_result"
    }
   ],
   "source": [
    "data[0]"
   ]
  },
  {
   "cell_type": "code",
   "execution_count": 49,
   "metadata": {},
   "outputs": [
    {
     "name": "stdout",
     "output_type": "stream",
     "text": [
      "[tensor([ 286.4037]), tensor([ 281.1267]), tensor([ 275.9252]), tensor([ 270.7987]), tensor([ 265.7467]), tensor([ 260.7687]), tensor([ 255.8643]), tensor([ 251.0333]), tensor([ 246.2751]), tensor([ 241.5897])]\n"
     ]
    },
    {
     "name": "stderr",
     "output_type": "stream",
     "text": [
      "/Library/Frameworks/Python.framework/Versions/3.6/lib/python3.6/site-packages/ipykernel_launcher.py:45: UserWarning: Implicit dimension choice for log_softmax has been deprecated. Change the call to include dim=X as an argument.\n"
     ]
    }
   ],
   "source": [
    "import torch\n",
    "from torch.autograd import Variable\n",
    "import torch.nn as nn\n",
    "import torch.nn.functional as F\n",
    "import torch.optim as optim\n",
    " \n",
    "torch.manual_seed(1)\n",
    " \n",
    "CONTEXT_SIZE = 2  # 2 words to the left, 2 to the right\n",
    "\n",
    "\n",
    "\n",
    "\n",
    "raw_text = \"\"\"民進黨 備戰 年底 縣市長 選舉 加緊腳步 改革 拚 政績\n",
    "不過 有時 官員 為 了 辯護 政策 發言 卻 被 認為 脫離現實 經常 遭 在野黨\n",
    "或 網友 調侃 最近 行政院長 賴清德 對外 解釋 非核 家園 政策 並非 躁進\n",
    "也 盼 外界 再 備載 容量 剩得 不夠 多 渲染 成 缺電 此番 言論 就 被 名嘴 黃 創夏 反諷 院長 沒有 智商 問\n",
    "題 只是 腦子 太小\"\"\".split()\n",
    " \n",
    "# By deriving a set from `raw_text`, we deduplicate the array\n",
    "vocab = set(raw_text)\n",
    "vocab_size = len(vocab)\n",
    " \n",
    "word_to_ix = {word: i for i, word in enumerate(vocab)}\n",
    "data = []\n",
    "for i in range(2, len(raw_text) - 2):\n",
    "    context = [raw_text[i - 2], raw_text[i - 1],\n",
    "               raw_text[i + 1], raw_text[i + 2]]\n",
    "    target = raw_text[i]\n",
    "    data.append((context, target))\n",
    "#print(data[:5])\n",
    " \n",
    " \n",
    "class CBOW(nn.Module):\n",
    "    def __init__(self, vocab_size, embedding_dim):\n",
    "        super(CBOW,self).__init__() \n",
    "        self.embeddings = nn.Embedding(vocab_size, embedding_dim) # embeddings， 待训练参数为embedding词表\n",
    "        self.linear1 = nn.Linear(embedding_dim, vocab_size) # 待训练参数为 A b\n",
    " \n",
    " \n",
    "    def forward(self, inputs):\n",
    "        embeds = self.embeddings(inputs)\n",
    "        add_embeds = torch.sum(embeds, dim=0).view(1,-1) # 相加后reshape\n",
    "        out = self.linear1(add_embeds)\n",
    "        log_probs = F.log_softmax(out)\n",
    "        return log_probs\n",
    " \n",
    "# create your model and train.  here are some functions to help you make\n",
    "# the data ready for use by your module\n",
    " \n",
    " \n",
    "def make_context_vector(context, word_to_ix):\n",
    "    idxs = [word_to_ix[w] for w in context]\n",
    "    tensor = torch.LongTensor(idxs)\n",
    "    return Variable(tensor)\n",
    " \n",
    " \n",
    "#make_context_vector(data[0][0], word_to_ix)  # example\n",
    " \n",
    "# 建立優化器\n",
    "losses = []\n",
    "loss_function = nn.NLLLoss()\n",
    "model = CBOW(vocab_size, embedding_dim=20)\n",
    "optimizer = optim.SGD(model.parameters(), lr=0.001)\n",
    " \n",
    "# 開始訓練\n",
    "for epoch in range(10):\n",
    "    #print('epoch:', epoch, total_loss)\n",
    "    total_loss = torch.FloatTensor([0])\n",
    "    for context, target in data:\n",
    "        context_idxs = [word_to_ix[w] for w in context]\n",
    "        target_idx = word_to_ix[target]\n",
    "        context_var = Variable(torch.LongTensor(context_idxs))\n",
    "        target_var = Variable(torch.LongTensor([target_idx]))\n",
    "        model.zero_grad()\n",
    "        log_probs = model(context_var)\n",
    " \n",
    "        loss = loss_function(log_probs,target_var)\n",
    "        loss.backward()\n",
    "        optimizer.step()\n",
    " \n",
    "        total_loss += loss.data\n",
    "    losses.append(total_loss)\n",
    "print(losses)"
   ]
  },
  {
   "cell_type": "code",
   "execution_count": 44,
   "metadata": {},
   "outputs": [
    {
     "data": {
      "text/plain": [
       "tensor([[-4.3736, -6.0672, -6.4029, -3.2983, -3.2056, -4.4463, -3.6566,\n",
       "         -5.3512, -5.0240, -6.8106, -3.9341, -3.3772, -4.2399, -4.6874,\n",
       "         -5.4792, -3.6308, -3.5693, -6.9198, -3.8954, -4.3974, -6.0739,\n",
       "         -5.8943, -2.0312, -7.0127, -4.3555, -3.5623, -5.0418, -5.1572,\n",
       "         -5.3538, -3.6363, -5.8433, -6.3246, -4.8121, -6.2440, -3.4695,\n",
       "         -5.2942, -4.4541, -3.9078, -2.7883, -5.6608, -6.8956, -6.2957,\n",
       "         -6.9875, -4.5539, -4.4182, -4.0486, -3.4340, -3.8613, -4.9785,\n",
       "         -6.0099, -6.2466, -3.7921, -5.0173, -3.9109, -5.5299, -3.4842,\n",
       "         -2.7776, -6.0387, -5.4375, -5.6201, -6.5588, -5.1013, -3.1098]])"
      ]
     },
     "execution_count": 44,
     "metadata": {},
     "output_type": "execute_result"
    }
   ],
   "source": [
    "log_probs"
   ]
  },
  {
   "cell_type": "code",
   "execution_count": 45,
   "metadata": {},
   "outputs": [
    {
     "data": {
      "text/plain": [
       "{'不夠': 24,\n",
       " '不過': 31,\n",
       " '並非': 25,\n",
       " '也': 23,\n",
       " '了': 44,\n",
       " '備戰': 50,\n",
       " '備載': 13,\n",
       " '再': 6,\n",
       " '剩得': 43,\n",
       " '創夏': 16,\n",
       " '加緊腳步': 58,\n",
       " '卻': 46,\n",
       " '反諷': 26,\n",
       " '只是': 36,\n",
       " '名嘴': 53,\n",
       " '問': 56,\n",
       " '在野黨': 40,\n",
       " '外界': 9,\n",
       " '多': 12,\n",
       " '太小': 4,\n",
       " '官員': 1,\n",
       " '家園': 45,\n",
       " '容量': 37,\n",
       " '對外': 5,\n",
       " '就': 21,\n",
       " '年底': 54,\n",
       " '成': 33,\n",
       " '或': 49,\n",
       " '拚': 52,\n",
       " '改革': 39,\n",
       " '政策': 30,\n",
       " '政績': 57,\n",
       " '智商': 14,\n",
       " '最近': 15,\n",
       " '有時': 60,\n",
       " '此番': 10,\n",
       " '民進黨': 7,\n",
       " '沒有': 18,\n",
       " '渲染': 47,\n",
       " '為': 20,\n",
       " '發言': 42,\n",
       " '盼': 61,\n",
       " '經常': 2,\n",
       " '網友': 17,\n",
       " '縣市長': 28,\n",
       " '缺電': 48,\n",
       " '脫離現實': 0,\n",
       " '腦子': 11,\n",
       " '行政院長': 32,\n",
       " '被': 41,\n",
       " '解釋': 22,\n",
       " '言論': 35,\n",
       " '認為': 29,\n",
       " '調侃': 55,\n",
       " '賴清德': 59,\n",
       " '躁進': 51,\n",
       " '辯護': 38,\n",
       " '遭': 3,\n",
       " '選舉': 8,\n",
       " '院長': 27,\n",
       " '非核': 19,\n",
       " '題': 62,\n",
       " '黃': 34}"
      ]
     },
     "execution_count": 45,
     "metadata": {},
     "output_type": "execute_result"
    }
   ],
   "source": [
    "word_to_ix"
   ]
  },
  {
   "cell_type": "code",
   "execution_count": null,
   "metadata": {
    "collapsed": true
   },
   "outputs": [],
   "source": [
    "#https://blog.csdn.net/CrazyBull2012/article/details/79380669"
   ]
  }
 ],
 "metadata": {
  "kernelspec": {
   "display_name": "Python 3",
   "language": "python",
   "name": "python3"
  },
  "language_info": {
   "codemirror_mode": {
    "name": "ipython",
    "version": 3
   },
   "file_extension": ".py",
   "mimetype": "text/x-python",
   "name": "python",
   "nbconvert_exporter": "python",
   "pygments_lexer": "ipython3",
   "version": "3.6.3"
  }
 },
 "nbformat": 4,
 "nbformat_minor": 2
}
