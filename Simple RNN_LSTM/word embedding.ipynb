{
 "cells": [
  {
   "cell_type": "code",
   "execution_count": 17,
   "metadata": {},
   "outputs": [
    {
     "data": {
      "text/plain": [
       "<torch._C.Generator at 0x1051b9e90>"
      ]
     },
     "execution_count": 17,
     "metadata": {},
     "output_type": "execute_result"
    }
   ],
   "source": [
    "import torch\n",
    "import torch.nn as nn\n",
    "import torch.nn.functional as F\n",
    "import torch.optim as optim\n",
    "from torch.autograd import Variable\n",
    "import numpy as np\n",
    "torch.manual_seed(1)"
   ]
  },
  {
   "cell_type": "code",
   "execution_count": 56,
   "metadata": {},
   "outputs": [
    {
     "name": "stdout",
     "output_type": "stream",
     "text": [
      "tensor([[-2.5667, -1.4303,  0.5009,  0.5438, -0.4057]])\n",
      "list [[-2.5667366981506348, -1.4303274154663086, 0.5009211301803589, 0.5437674522399902, -0.4057423770427704]]\n"
     ]
    }
   ],
   "source": [
    "word_to_ix = {\"hello\": 0, \"world\": 1} #Hello表示0, Wordld表示1\n",
    "embeds = nn.Embedding(2, 5)  # 2 words in vocab, 5 dimensional embeddings, 2x5矩陣\n",
    "#如果1000個詞 希望100維度就是 1000,100\n",
    "lookup_tensor = torch.tensor([word_to_ix[\"hello\"]], dtype=torch.long) #dtype=torch.long 64 int\n",
    "hello_embed = embeds(lookup_tensor) #Embeddin放到embeds\n",
    "print(hello_embed) #Hello的word embedding\n",
    "#轉換tensor to numpy\n",
    "hello_embed=hello_embed.detach().numpy().tolist()\n",
    "print(\"list\",hello_embed)"
   ]
  },
  {
   "cell_type": "code",
   "execution_count": 57,
   "metadata": {},
   "outputs": [
    {
     "data": {
      "text/plain": [
       "[[-2.5667366981506348,\n",
       "  -1.4303274154663086,\n",
       "  0.5009211301803589,\n",
       "  0.5437674522399902,\n",
       "  -0.4057423770427704]]"
      ]
     },
     "execution_count": 57,
     "metadata": {},
     "output_type": "execute_result"
    }
   ],
   "source": [
    "hello_embed"
   ]
  },
  {
   "cell_type": "code",
   "execution_count": 58,
   "metadata": {},
   "outputs": [
    {
     "name": "stdout",
     "output_type": "stream",
     "text": [
      "tensor([[ 1.1341, -1.1115,  0.3501, -0.7703, -0.1473]])\n",
      "list [[1.1340515613555908, -1.1115385293960571, 0.3500675857067108, -0.7702727913856506, -0.14726622402668]]\n"
     ]
    }
   ],
   "source": [
    "lookup_tensor = torch.tensor([word_to_ix[\"world\"]], dtype=torch.long) #dtype=torch.long 64 int\n",
    "world_embed = embeds(lookup_tensor) #Embeddin放到embeds\n",
    "print(world_embed) #Hello的word embedding\n",
    "world_embed=world_embed.detach().numpy().tolist()\n",
    "print(\"list\",world_embed)"
   ]
  },
  {
   "cell_type": "code",
   "execution_count": null,
   "metadata": {
    "collapsed": true
   },
   "outputs": [],
   "source": [
    "#計算夾角"
   ]
  },
  {
   "cell_type": "code",
   "execution_count": 85,
   "metadata": {},
   "outputs": [
    {
     "data": {
      "text/plain": [
       "array([[-0.27264674]])"
      ]
     },
     "execution_count": 85,
     "metadata": {},
     "output_type": "execute_result"
    }
   ],
   "source": [
    "from sklearn.metrics.pairwise import cosine_similarity\n",
    "cosine_similarity(hello_embed,world_embed)"
   ]
  },
  {
   "cell_type": "code",
   "execution_count": null,
   "metadata": {},
   "outputs": [],
   "source": []
  },
  {
   "cell_type": "code",
   "execution_count": 79,
   "metadata": {
    "collapsed": true
   },
   "outputs": [],
   "source": []
  },
  {
   "cell_type": "code",
   "execution_count": null,
   "metadata": {},
   "outputs": [],
   "source": []
  },
  {
   "cell_type": "code",
   "execution_count": null,
   "metadata": {
    "collapsed": true
   },
   "outputs": [],
   "source": []
  },
  {
   "cell_type": "code",
   "execution_count": null,
   "metadata": {
    "collapsed": true
   },
   "outputs": [],
   "source": []
  },
  {
   "cell_type": "code",
   "execution_count": null,
   "metadata": {
    "collapsed": true
   },
   "outputs": [],
   "source": []
  },
  {
   "cell_type": "code",
   "execution_count": 12,
   "metadata": {},
   "outputs": [
    {
     "name": "stdout",
     "output_type": "stream",
     "text": [
      "[(['今天', '天氣'], '如何'), (['天氣', '如何'], '你'), (['如何', '你'], '好')]\n",
      "[7.557050466537476, 7.493309736251831, 7.430240154266357, 7.367831707000732, 7.306158423423767, 7.245250225067139, 7.184972047805786, 7.1253156661987305, 7.06627345085144, 7.007836818695068]\n"
     ]
    }
   ],
   "source": [
    "CONTEXT_SIZE = 2\n",
    "EMBEDDING_DIM = 10\n",
    "# We will use Shakespeare Sonnet 2\n",
    "test_sentence = \"\"\"今天 天氣 如何 你 好 嗎\"\"\".split()\n",
    "# we should tokenize the input, but we will ignore that for now\n",
    "# build a list of tuples.  Each tuple is ([ word_i-2, word_i-1 ], target word)\n",
    "trigrams = [([test_sentence[i], test_sentence[i + 1]], test_sentence[i + 2])\n",
    "            for i in range(len(test_sentence) - 2)]\n",
    "# print the first 3, just so you can see what they look like\n",
    "print(trigrams[:3])\n",
    "\n",
    "vocab = set(test_sentence)\n",
    "word_to_ix = {word: i for i, word in enumerate(vocab)}\n",
    "\n",
    "\n",
    "class NGramLanguageModeler(nn.Module):\n",
    "\n",
    "    def __init__(self, vocab_size, embedding_dim, context_size):\n",
    "        super(NGramLanguageModeler, self).__init__()\n",
    "        self.embeddings = nn.Embedding(vocab_size, embedding_dim)\n",
    "        self.linear1 = nn.Linear(context_size * embedding_dim, 128)\n",
    "        self.linear2 = nn.Linear(128, vocab_size)\n",
    "\n",
    "    def forward(self, inputs):\n",
    "        embeds = self.embeddings(inputs).view((1, -1))\n",
    "        out = F.relu(self.linear1(embeds))\n",
    "        out = self.linear2(out)\n",
    "        log_probs = F.log_softmax(out, dim=1)\n",
    "        return log_probs\n",
    "\n",
    "\n",
    "losses = []\n",
    "loss_function = nn.NLLLoss()\n",
    "model = NGramLanguageModeler(len(vocab), EMBEDDING_DIM, CONTEXT_SIZE)\n",
    "optimizer = optim.SGD(model.parameters(), lr=0.001)\n",
    "\n",
    "for epoch in range(10):\n",
    "    total_loss = 0\n",
    "    for context, target in trigrams:\n",
    "\n",
    "        # Step 1. Prepare the inputs to be passed to the model (i.e, turn the words\n",
    "        # into integer indices and wrap them in tensors)\n",
    "        context_idxs = torch.tensor([word_to_ix[w] for w in context], dtype=torch.long)\n",
    "\n",
    "        # Step 2. Recall that torch *accumulates* gradients. Before passing in a\n",
    "        # new instance, you need to zero out the gradients from the old\n",
    "        # instance\n",
    "        model.zero_grad()\n",
    "\n",
    "        # Step 3. Run the forward pass, getting log probabilities over next\n",
    "        # words\n",
    "        log_probs = model(context_idxs)\n",
    "\n",
    "        # Step 4. Compute your loss function. (Again, Torch wants the target\n",
    "        # word wrapped in a tensor)\n",
    "        loss = loss_function(log_probs, torch.tensor([word_to_ix[target]], dtype=torch.long))\n",
    "\n",
    "        # Step 5. Do the backward pass and update the gradient\n",
    "        loss.backward()\n",
    "        optimizer.step()\n",
    "\n",
    "        # Get the Python number from a 1-element Tensor by calling tensor.item()\n",
    "        total_loss += loss.item()\n",
    "    losses.append(total_loss)\n",
    "print(losses)  # The loss decreased every iteration over the training data!"
   ]
  },
  {
   "cell_type": "code",
   "execution_count": 15,
   "metadata": {},
   "outputs": [
    {
     "name": "stdout",
     "output_type": "stream",
     "text": [
      "[(['民進黨', '備戰', '縣市長', '選舉'], '年底'), (['備戰', '年底', '選舉', '加緊腳步'], '縣市長'), (['年底', '縣市長', '加緊腳步', '改革'], '選舉'), (['縣市長', '選舉', '改革', '拚'], '加緊腳步'), (['選舉', '加緊腳步', '拚', '政績'], '改革')]\n"
     ]
    },
    {
     "data": {
      "text/plain": [
       "tensor([  7,  50,  28,   8])"
      ]
     },
     "execution_count": 15,
     "metadata": {},
     "output_type": "execute_result"
    }
   ],
   "source": [
    "CONTEXT_SIZE = 2  # 左邊2個字，右邊2個字\n",
    "raw_text = \"\"\"民進黨 備戰 年底 縣市長 選舉 加緊腳步 改革 拚 政績\n",
    "不過 有時 官員 為 了 辯護 政策 發言 卻 被 認為 脫離現實 經常 遭 在野黨\n",
    "或 網友 調侃 最近 行政院長 賴清德 對外 解釋 非核 家園 政策 並非 躁進\n",
    "也 盼 外界 再 備載 容量 剩得 不夠 多 渲染 成 缺電 此番 言論 就 被 名嘴 黃 創夏 反諷 院長 沒有 智商 問\n",
    "題 只是 腦子 太小\"\"\".split()\n",
    "\n",
    "# 通過從`raw_text`派生一個集合，我們對數組進行重複數據刪除\n",
    "vocab = set(raw_text)\n",
    "vocab_size = len(vocab)\n",
    "\n",
    "word_to_ix = {word: i for i, word in enumerate(vocab)}\n",
    "data = []\n",
    "for i in range(2, len(raw_text) - 2):\n",
    "    context = [raw_text[i - 2], raw_text[i - 1],\n",
    "               raw_text[i + 1], raw_text[i + 2]]\n",
    "    target = raw_text[i]\n",
    "    data.append((context, target))\n",
    "print(data[:5])\n",
    "\n",
    "\n",
    "class CBOW(nn.Module):\n",
    "\n",
    "    def __init__(self):\n",
    "        pass\n",
    "\n",
    "    def forward(self, inputs):\n",
    "        pass\n",
    "\n",
    "\n",
    "def make_context_vector(context, word_to_ix):\n",
    "    idxs = [word_to_ix[w] for w in context]\n",
    "    return torch.tensor(idxs, dtype=torch.long)\n",
    "\n",
    "\n",
    "make_context_vector(data[0][0], word_to_ix)  # example"
   ]
  },
  {
   "cell_type": "code",
   "execution_count": 20,
   "metadata": {},
   "outputs": [
    {
     "data": {
      "text/plain": [
       "(['民進黨', '備戰', '縣市長', '選舉'], '年底')"
      ]
     },
     "execution_count": 20,
     "metadata": {},
     "output_type": "execute_result"
    }
   ],
   "source": [
    "data[0]"
   ]
  },
  {
   "cell_type": "code",
   "execution_count": 1,
   "metadata": {},
   "outputs": [
    {
     "name": "stdout",
     "output_type": "stream",
     "text": [
      "[tensor([ 298.9560]), tensor([ 293.2370]), tensor([ 287.6259]), tensor([ 282.1188]), tensor([ 276.7123]), tensor([ 271.4033]), tensor([ 266.1891]), tensor([ 261.0671]), tensor([ 256.0354]), tensor([ 251.0919])]\n"
     ]
    },
    {
     "name": "stderr",
     "output_type": "stream",
     "text": [
      "/Library/Frameworks/Python.framework/Versions/3.6/lib/python3.6/site-packages/ipykernel_launcher.py:45: UserWarning: Implicit dimension choice for log_softmax has been deprecated. Change the call to include dim=X as an argument.\n"
     ]
    }
   ],
   "source": [
    "import torch\n",
    "from torch.autograd import Variable\n",
    "import torch.nn as nn\n",
    "import torch.nn.functional as F\n",
    "import torch.optim as optim\n",
    " \n",
    "torch.manual_seed(1)\n",
    " \n",
    "CONTEXT_SIZE = 2  # 2 words to the left, 2 to the right\n",
    "\n",
    "\n",
    "\n",
    "\n",
    "raw_text = \"\"\"民進黨 備戰 年底 縣市長 選舉 加緊腳步 改革 拚 政績\n",
    "不過 有時 官員 為 了 辯護 政策 發言 卻 被 認為 脫離現實 經常 遭 在野黨\n",
    "或 網友 調侃 最近 行政院長 賴清德 對外 解釋 非核 家園 政策 並非 躁進\n",
    "也 盼 外界 再 備載 容量 剩得 不夠 多 渲染 成 缺電 此番 言論 就 被 名嘴 黃 創夏 反諷 院長 沒有 智商 問\n",
    "題 只是 腦子 太小\"\"\".split()\n",
    " \n",
    "# By deriving a set from `raw_text`, we deduplicate the array\n",
    "vocab = set(raw_text)\n",
    "vocab_size = len(vocab)\n",
    " \n",
    "word_to_ix = {word: i for i, word in enumerate(vocab)}\n",
    "data = []\n",
    "for i in range(2, len(raw_text) - 2):\n",
    "    context = [raw_text[i - 2], raw_text[i - 1],\n",
    "               raw_text[i + 1], raw_text[i + 2]]\n",
    "    target = raw_text[i]\n",
    "    data.append((context, target))\n",
    "#print(data[:5])\n",
    " \n",
    " \n",
    "class CBOW(nn.Module):\n",
    "    def __init__(self, vocab_size, embedding_dim):\n",
    "        super(CBOW,self).__init__() \n",
    "        self.embeddings = nn.Embedding(vocab_size, embedding_dim) # embeddings， 待训练参数为embedding词表\n",
    "        self.linear1 = nn.Linear(embedding_dim, vocab_size) # 待训练参数为 A b\n",
    " \n",
    " \n",
    "    def forward(self, inputs):\n",
    "        embeds = self.embeddings(inputs)\n",
    "        add_embeds = torch.sum(embeds, dim=0).view(1,-1) # 相加后reshape\n",
    "        out = self.linear1(add_embeds)\n",
    "        log_probs = F.log_softmax(out)\n",
    "        return log_probs\n",
    " \n",
    "# create your model and train.  here are some functions to help you make\n",
    "# the data ready for use by your module\n",
    " \n",
    " \n",
    "def make_context_vector(context, word_to_ix):\n",
    "    idxs = [word_to_ix[w] for w in context]\n",
    "    tensor = torch.LongTensor(idxs)\n",
    "    return Variable(tensor)\n",
    " \n",
    " \n",
    "#make_context_vector(data[0][0], word_to_ix)  # example\n",
    " \n",
    "# 建立優化器\n",
    "losses = []\n",
    "loss_function = nn.NLLLoss()\n",
    "model = CBOW(vocab_size, embedding_dim=20)\n",
    "optimizer = optim.SGD(model.parameters(), lr=0.001)\n",
    " \n",
    "# 開始訓練\n",
    "for epoch in range(10):\n",
    "    #print('epoch:', epoch, total_loss)\n",
    "    total_loss = torch.FloatTensor([0])\n",
    "    for context, target in data:\n",
    "        context_idxs = [word_to_ix[w] for w in context]\n",
    "        target_idx = word_to_ix[target]\n",
    "        context_var = Variable(torch.LongTensor(context_idxs))\n",
    "        target_var = Variable(torch.LongTensor([target_idx]))\n",
    "        model.zero_grad()\n",
    "        log_probs = model(context_var)\n",
    " \n",
    "        loss = loss_function(log_probs,target_var)\n",
    "        loss.backward()\n",
    "        optimizer.step()\n",
    " \n",
    "        total_loss += loss.data\n",
    "    losses.append(total_loss)\n",
    "print(losses)"
   ]
  },
  {
   "cell_type": "code",
   "execution_count": 9,
   "metadata": {},
   "outputs": [
    {
     "ename": "NameError",
     "evalue": "name 'tensor' is not defined",
     "output_type": "error",
     "traceback": [
      "\u001b[0;31m---------------------------------------------------------------------------\u001b[0m",
      "\u001b[0;31mNameError\u001b[0m                                 Traceback (most recent call last)",
      "\u001b[0;32m<ipython-input-9-ac256ade7c07>\u001b[0m in \u001b[0;36m<module>\u001b[0;34m()\u001b[0m\n\u001b[0;32m----> 1\u001b[0;31m \u001b[0mtensor\u001b[0m\u001b[0;34m\u001b[0m\u001b[0m\n\u001b[0m",
      "\u001b[0;31mNameError\u001b[0m: name 'tensor' is not defined"
     ]
    }
   ],
   "source": [
    "tensor"
   ]
  },
  {
   "cell_type": "code",
   "execution_count": 3,
   "metadata": {},
   "outputs": [
    {
     "data": {
      "text/plain": [
       "{'不夠': 16,\n",
       " '不過': 54,\n",
       " '並非': 27,\n",
       " '也': 9,\n",
       " '了': 37,\n",
       " '備戰': 7,\n",
       " '備載': 38,\n",
       " '再': 35,\n",
       " '剩得': 25,\n",
       " '創夏': 41,\n",
       " '加緊腳步': 15,\n",
       " '卻': 30,\n",
       " '反諷': 58,\n",
       " '只是': 13,\n",
       " '名嘴': 47,\n",
       " '問': 60,\n",
       " '在野黨': 57,\n",
       " '外界': 53,\n",
       " '多': 28,\n",
       " '太小': 21,\n",
       " '官員': 12,\n",
       " '家園': 11,\n",
       " '容量': 45,\n",
       " '對外': 33,\n",
       " '就': 5,\n",
       " '年底': 24,\n",
       " '成': 3,\n",
       " '或': 49,\n",
       " '拚': 4,\n",
       " '改革': 59,\n",
       " '政策': 50,\n",
       " '政績': 29,\n",
       " '智商': 56,\n",
       " '最近': 17,\n",
       " '有時': 0,\n",
       " '此番': 42,\n",
       " '民進黨': 55,\n",
       " '沒有': 10,\n",
       " '渲染': 36,\n",
       " '為': 34,\n",
       " '發言': 48,\n",
       " '盼': 52,\n",
       " '經常': 31,\n",
       " '網友': 19,\n",
       " '縣市長': 18,\n",
       " '缺電': 22,\n",
       " '脫離現實': 6,\n",
       " '腦子': 20,\n",
       " '行政院長': 14,\n",
       " '被': 2,\n",
       " '解釋': 51,\n",
       " '言論': 40,\n",
       " '認為': 61,\n",
       " '調侃': 32,\n",
       " '賴清德': 39,\n",
       " '躁進': 26,\n",
       " '辯護': 44,\n",
       " '遭': 46,\n",
       " '選舉': 23,\n",
       " '院長': 43,\n",
       " '非核': 1,\n",
       " '題': 62,\n",
       " '黃': 8}"
      ]
     },
     "execution_count": 3,
     "metadata": {},
     "output_type": "execute_result"
    }
   ],
   "source": [
    "word_to_ix"
   ]
  },
  {
   "cell_type": "code",
   "execution_count": 4,
   "metadata": {
    "collapsed": true
   },
   "outputs": [],
   "source": [
    "#https://blog.csdn.net/CrazyBull2012/article/details/79380669"
   ]
  },
  {
   "cell_type": "code",
   "execution_count": null,
   "metadata": {
    "collapsed": true
   },
   "outputs": [],
   "source": []
  }
 ],
 "metadata": {
  "kernelspec": {
   "display_name": "Python 3",
   "language": "python",
   "name": "python3"
  },
  "language_info": {
   "codemirror_mode": {
    "name": "ipython",
    "version": 3
   },
   "file_extension": ".py",
   "mimetype": "text/x-python",
   "name": "python",
   "nbconvert_exporter": "python",
   "pygments_lexer": "ipython3",
   "version": "3.6.3"
  }
 },
 "nbformat": 4,
 "nbformat_minor": 2
}
