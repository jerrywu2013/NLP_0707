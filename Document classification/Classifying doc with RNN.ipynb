{
 "cells": [
  {
   "cell_type": "code",
   "execution_count": 43,
   "metadata": {
    "collapsed": true
   },
   "outputs": [],
   "source": [
    "import jieba"
   ]
  },
  {
   "cell_type": "code",
   "execution_count": 44,
   "metadata": {},
   "outputs": [
    {
     "name": "stderr",
     "output_type": "stream",
     "text": [
      "Building prefix dict from the default dictionary ...\n",
      "Dumping model to file cache /var/folders/jh/bz0fdd8s2kj3qps782mmfkpw0000gq/T/jieba.cache\n",
      "Loading model cost 1.316 seconds.\n",
      "Prefix dict has been built succesfully.\n"
     ]
    },
    {
     "name": "stdout",
     "output_type": "stream",
     "text": [
      "Full Mode: 我/ 来到/ 北京/ 清华/ 清华大学/ 华大/ 大学\n"
     ]
    }
   ],
   "source": [
    "seg_list = jieba.cut(\"我来到北京清华大学\", cut_all=True)"
   ]
  },
  {
   "cell_type": "code",
   "execution_count": 74,
   "metadata": {
    "collapsed": true
   },
   "outputs": [],
   "source": [
    "seg_list = jieba.cut(\"我来到北京清华大学\", cut_all=True)"
   ]
  },
  {
   "cell_type": "code",
   "execution_count": 75,
   "metadata": {},
   "outputs": [
    {
     "name": "stdout",
     "output_type": "stream",
     "text": [
      "我\n",
      "来到\n",
      "北京\n",
      "清华\n",
      "清华大学\n",
      "华大\n",
      "大学\n"
     ]
    }
   ],
   "source": [
    "for n in seg_list:\n",
    "    print(n)"
   ]
  },
  {
   "cell_type": "code",
   "execution_count": 117,
   "metadata": {
    "collapsed": true
   },
   "outputs": [],
   "source": [
    "x = \"我來到北京清華大學\""
   ]
  },
  {
   "cell_type": "code",
   "execution_count": 118,
   "metadata": {},
   "outputs": [
    {
     "name": "stdout",
     "output_type": "stream",
     "text": [
      "我來\n",
      "到\n",
      "北京\n",
      "清華大學\n"
     ]
    }
   ],
   "source": [
    "seg_list = jieba.cut(x)\n",
    "f = open('A.txt', 'w', encoding = 'UTF-8')  \n",
    "for n in seg_list: \n",
    "    print(n)\n",
    "    n_data = n + \"\\n\"\n",
    "#    print(n_data)\n",
    "    f.write(n_data) "
   ]
  },
  {
   "cell_type": "code",
   "execution_count": 1,
   "metadata": {},
   "outputs": [
    {
     "name": "stdout",
     "output_type": "stream",
     "text": [
      "['data/doc/china.txt', 'data/doc/social.txt']\n"
     ]
    }
   ],
   "source": [
    "from __future__ import unicode_literals, print_function, division\n",
    "from io import open\n",
    "import glob\n",
    "\n",
    "def findFiles(path): return glob.glob(path)\n",
    "\n",
    "print(findFiles('data/doc/*.txt'))\n",
    "\n",
    "import unicodedata\n",
    "import string\n",
    "\n",
    "\n",
    "all_letters = string.ascii_letters + \" .,;'\"\n",
    "n_letters = len(all_letters)\n",
    "\n",
    "#將Unicode轉ASCII\n",
    "def unicodeToAscii(s):\n",
    "    return ''.join(\n",
    "        c for c in unicodedata.normalize('NFD', s)\n",
    "        if unicodedata.category(c) != 'Mn'\n",
    "        and c in all_letters\n",
    "    )\n",
    "\n",
    "#print(unicodeToAscii('Ślusàrski'))\n",
    "\n",
    "# 構建category_lines字典，每種語言的名稱列表\n",
    "category_lines = {}\n",
    "all_categories = []\n",
    "\n",
    "# 讀取文件並分行\n",
    "def readLines(filename):\n",
    "    lines = open(filename, encoding='utf-8').read().strip().split('\\n')\n",
    "    return [line for line in lines]\n",
    "\n",
    "for filename in findFiles('data/doc/*.txt'):\n",
    "    category = filename.split('/')[-1].split('.')[0]\n",
    "    #18種類別\n",
    "    all_categories.append(category)\n",
    "    lines = readLines(filename)\n",
    "    #category_lines 類別：名字List\n",
    "    category_lines[category] = lines\n",
    "\n",
    "n_categories = len(all_categories)"
   ]
  },
  {
   "cell_type": "code",
   "execution_count": 2,
   "metadata": {},
   "outputs": [
    {
     "data": {
      "text/plain": [
       "{'china': ['大陸',\n",
       "  '東南衛視',\n",
       "  '駐台',\n",
       "  '採訪',\n",
       "  '資歷',\n",
       "  '近',\n",
       "  '10年',\n",
       "  '的',\n",
       "  '記者',\n",
       "  '葉青林',\n",
       "  '6',\n",
       "  '月',\n",
       "  '申請',\n",
       "  '來台',\n",
       "  '駐點',\n",
       "  '遭拒',\n",
       "  '陸委會',\n",
       "  '副主委',\n",
       "  '邱垂正',\n",
       "  '昨天',\n",
       "  '葉青林'],\n",
       " 'social': ['記者',\n",
       "  '王錦義',\n",
       "  '花蓮',\n",
       "  '報導',\n",
       "  '台北市',\n",
       "  '巨陞企業',\n",
       "  '董事長',\n",
       "  '陳宏育',\n",
       "  '與',\n",
       "  '夫人',\n",
       "  '范錦美',\n",
       "  '27',\n",
       "  '日',\n",
       "  '在',\n",
       "  '中橫公路',\n",
       "  '墜谷',\n",
       "  '雙亡',\n",
       "  '案',\n",
       "  '據悉']}"
      ]
     },
     "execution_count": 2,
     "metadata": {},
     "output_type": "execute_result"
    }
   ],
   "source": [
    "category_lines"
   ]
  },
  {
   "cell_type": "code",
   "execution_count": 3,
   "metadata": {},
   "outputs": [
    {
     "name": "stdout",
     "output_type": "stream",
     "text": [
      "all_letters: 57\n",
      "n_categories: 2\n"
     ]
    }
   ],
   "source": [
    "print(\"all_letters: \"+str(len(all_letters)))\n",
    "print(\"n_categories: \"+str(n_categories))\n",
    "#print(\"category_lines:\"+str(category_lines['雙亡'][:5]))"
   ]
  },
  {
   "cell_type": "code",
   "execution_count": 4,
   "metadata": {},
   "outputs": [
    {
     "data": {
      "text/plain": [
       "{'china': ['大陸',\n",
       "  '東南衛視',\n",
       "  '駐台',\n",
       "  '採訪',\n",
       "  '資歷',\n",
       "  '近',\n",
       "  '10年',\n",
       "  '的',\n",
       "  '記者',\n",
       "  '葉青林',\n",
       "  '6',\n",
       "  '月',\n",
       "  '申請',\n",
       "  '來台',\n",
       "  '駐點',\n",
       "  '遭拒',\n",
       "  '陸委會',\n",
       "  '副主委',\n",
       "  '邱垂正',\n",
       "  '昨天',\n",
       "  '葉青林'],\n",
       " 'social': ['記者',\n",
       "  '王錦義',\n",
       "  '花蓮',\n",
       "  '報導',\n",
       "  '台北市',\n",
       "  '巨陞企業',\n",
       "  '董事長',\n",
       "  '陳宏育',\n",
       "  '與',\n",
       "  '夫人',\n",
       "  '范錦美',\n",
       "  '27',\n",
       "  '日',\n",
       "  '在',\n",
       "  '中橫公路',\n",
       "  '墜谷',\n",
       "  '雙亡',\n",
       "  '案',\n",
       "  '據悉']}"
      ]
     },
     "execution_count": 4,
     "metadata": {},
     "output_type": "execute_result"
    }
   ],
   "source": [
    "category_lines"
   ]
  },
  {
   "cell_type": "markdown",
   "metadata": {},
   "source": [
    "在PyTorch中，我們需要將名字數據轉換成Tensor才能在模型中讀入使用。在本文中，最小粒度為字符，意思是我們將名字裡面的每個字符都作為一個獨立的語言粒度來處理，為了數學化字符，我們這裡使用”one-hot vector”來表示，這裡每個字符被表示成<1 * 57>的向量。由於名字由多個字符組成，所以每個名字就被表示成了2D的矩陣<名字字符個數 * 1 * 57>。\n",
    "\n",
    "\n",
    "為了表示單個字母，我們使用大小<1 x n_letters>的“one-hot vector”，如：“b”= <0 1 0 0 0 ...>。\n",
    "\n",
    "額外的1維度是因為PyTorch假設所有內容都是批量的 - 我們在這裡只使用1的批量大小。"
   ]
  },
  {
   "cell_type": "code",
   "execution_count": 5,
   "metadata": {},
   "outputs": [
    {
     "name": "stdout",
     "output_type": "stream",
     "text": [
      "tensor([[ 0.,  0.,  0.,  0.,  0.,  0.,  0.,  0.,  0.,  0.,  0.,  0.,\n",
      "          0.,  0.,  0.,  0.,  0.,  0.,  0.,  0.,  0.,  0.,  0.,  0.,\n",
      "          0.,  0.,  0.,  0.,  0.,  0.,  0.,  0.,  0.,  0.,  0.,  0.,\n",
      "          0.,  0.,  0.,  0.,  0.,  0.,  0.,  0.,  0.,  0.,  0.,  0.,\n",
      "          0.,  0.,  0.,  1.,  0.,  0.,  0.,  0.,  0.]])\n",
      "torch.Size([5, 1, 57])\n"
     ]
    }
   ],
   "source": [
    "import torch\n",
    "\n",
    "# 建立函式方便尋找all_letters的Index像是\"a\" = 0\n",
    "def letterToIndex(letter):\n",
    "    return all_letters.find(letter)\n",
    "\n",
    "# 將一個字母轉成Tensor顯示\n",
    "def letterToTensor(letter):\n",
    "    tensor = torch.zeros(1, n_letters)\n",
    "    tensor[0][letterToIndex(letter)] = 1\n",
    "    return tensor\n",
    "\n",
    "# 建立one-hot letter vectors\n",
    "def lineToTensor(line):\n",
    "    tensor = torch.zeros(len(line), 1, n_letters)\n",
    "    for li, letter in enumerate(line):\n",
    "        tensor[li][0][letterToIndex(letter)] = 1\n",
    "    return tensor\n",
    "\n",
    "print(letterToTensor('Z'))\n",
    "\n",
    "print(lineToTensor('Jones').size())"
   ]
  },
  {
   "cell_type": "code",
   "execution_count": 6,
   "metadata": {
    "collapsed": true
   },
   "outputs": [],
   "source": [
    "import torch.nn as nn\n",
    "\n",
    " \n",
    "class RNN(nn.Module):\n",
    "    def __init__(self, input_size, hidden_size, output_size):\n",
    "        super(RNN, self).__init__()\n",
    "\n",
    "        self.hidden_size = hidden_size\n",
    "\n",
    "        self.i2h = nn.Linear(input_size + hidden_size, hidden_size)\n",
    "        self.i2o = nn.Linear(input_size + hidden_size, output_size)\n",
    "        self.softmax = nn.LogSoftmax(dim=1)\n",
    "\n",
    "    def forward(self, input, hidden):\n",
    "        combined = torch.cat((input, hidden), 1)\n",
    "        hidden = self.i2h(combined)\n",
    "        output = self.i2o(combined)\n",
    "        output = self.softmax(output)\n",
    "        return output, hidden\n",
    "\n",
    "    def initHidden(self):\n",
    "        return torch.zeros(1, self.hidden_size)\n",
    "\n",
    "n_hidden = 128\n",
    "rnn = RNN(n_letters, n_hidden, n_categories)"
   ]
  },
  {
   "cell_type": "markdown",
   "metadata": {},
   "source": [
    "為了運行這個網絡的一個步(step)，我們需要傳入輸入（在我們的例子中，當前字母的張量）和一個先前的隱藏狀態（初始化為零）。我們將返回輸出（每種語言的概率）和下一個隱藏狀態（我們為下一步保留）。"
   ]
  },
  {
   "cell_type": "code",
   "execution_count": 7,
   "metadata": {},
   "outputs": [
    {
     "name": "stdout",
     "output_type": "stream",
     "text": [
      "tensor([[-0.7073, -0.6792]])\n"
     ]
    }
   ],
   "source": [
    "input = letterToTensor('A')\n",
    "hidden =torch.zeros(1, n_hidden)\n",
    "\n",
    "output, next_hidden = rnn(input, hidden)\n",
    "print(output)"
   ]
  },
  {
   "cell_type": "markdown",
   "metadata": {},
   "source": [
    "為了提高效率，我們不希望為每一步創建一個新的Tensor，因此我們將使用lineToTensor而不是letterToTensor並使用切片。這可以通過預先計算批次的張量進一步優化。"
   ]
  },
  {
   "cell_type": "code",
   "execution_count": 8,
   "metadata": {},
   "outputs": [
    {
     "name": "stdout",
     "output_type": "stream",
     "text": [
      "tensor([[-0.7073, -0.6792]])\n"
     ]
    }
   ],
   "source": [
    "input = lineToTensor('Albert')\n",
    "hidden = torch.zeros(1, n_hidden)\n",
    "\n",
    "output, next_hidden = rnn(input[0], hidden)\n",
    "print(output)"
   ]
  },
  {
   "cell_type": "markdown",
   "metadata": {},
   "source": [
    "正如您所看到的，輸出是<1 x n_categories> Tensor，其中每個項目都是該類別的可能性（更高的可能性更高）。"
   ]
  },
  {
   "cell_type": "markdown",
   "metadata": {},
   "source": [
    "## 訓練\n",
    "## 訓練前準備"
   ]
  },
  {
   "cell_type": "code",
   "execution_count": 9,
   "metadata": {},
   "outputs": [
    {
     "name": "stdout",
     "output_type": "stream",
     "text": [
      "('social', 1)\n"
     ]
    }
   ],
   "source": [
    "def categoryFromOutput(output):\n",
    "    top_n, top_i = output.topk(1)\n",
    "    category_i = top_i[0].item()\n",
    "    return all_categories[category_i], category_i\n",
    "\n",
    "print(categoryFromOutput(output))"
   ]
  },
  {
   "cell_type": "markdown",
   "metadata": {},
   "source": [
    "在進入培訓之前，我們應該做一些輔助功能。第一個是解釋網絡的輸出，我們知道這是每個類別的可能性。我們可以使用Tensor.topk獲取最大價值的索引"
   ]
  },
  {
   "cell_type": "code",
   "execution_count": 10,
   "metadata": {},
   "outputs": [
    {
     "name": "stdout",
     "output_type": "stream",
     "text": [
      "category = china / line = 6\n",
      "category = china / line = 葉青林\n",
      "category = social / line = 報導\n",
      "category = social / line = 夫人\n",
      "category = social / line = 雙亡\n",
      "category = social / line = 范錦美\n",
      "category = social / line = 巨陞企業\n",
      "category = social / line = 花蓮\n",
      "category = social / line = 雙亡\n",
      "category = china / line = 來台\n"
     ]
    }
   ],
   "source": [
    "#我們也想要一個快速的方式來獲得一個訓練樣例（一個名字和它的語言）：\n",
    "import random\n",
    "\n",
    "def randomChoice(l):\n",
    "    return l[random.randint(0, len(l) - 1)]\n",
    "\n",
    "def randomTrainingExample():\n",
    "    category = randomChoice(all_categories)\n",
    "    line = randomChoice(category_lines[category])\n",
    "    category_tensor = torch.tensor([all_categories.index(category)], dtype=torch.long)\n",
    "    line_tensor = lineToTensor(line)\n",
    "    return category, line, category_tensor, line_tensor\n",
    "\n",
    "for i in range(10):\n",
    "    category, line, category_tensor, line_tensor = randomTrainingExample()\n",
    "    print('category =', category, '/ line =', line)"
   ]
  },
  {
   "cell_type": "markdown",
   "metadata": {},
   "source": [
    "訓練過程如下：\n",
    "1.創建輸入和目標張量  \n",
    "2.創建一個初始隱藏狀態(0初始化)  \n",
    "3.輸入該步字母然後保持該步的隱藏狀態，將此隱藏狀態和下一步的字母輸入一起組成下一步輸出  \n",
    "4.比較最終輸出結果和標記目標(類)   \n",
    "5.反向傳播(並且更新參數)  \n",
    "6.返回輸出和損失  "
   ]
  },
  {
   "cell_type": "code",
   "execution_count": 11,
   "metadata": {
    "collapsed": true
   },
   "outputs": [],
   "source": [
    "criterion = nn.NLLLoss()"
   ]
  },
  {
   "cell_type": "code",
   "execution_count": 12,
   "metadata": {
    "collapsed": true
   },
   "outputs": [],
   "source": [
    "learning_rate = 0.005\n",
    "\n",
    "def train(category_tensor, line_tensor):\n",
    "    hidden = rnn.initHidden()\n",
    "\n",
    "    rnn.zero_grad()\n",
    "\n",
    "    for i in range(line_tensor.size()[0]):\n",
    "        output, hidden = rnn(line_tensor[i], hidden)\n",
    "\n",
    "    loss = criterion(output, category_tensor)\n",
    "    loss.backward()\n",
    "\n",
    "    # Add parameters' gradients to their values, multiplied by learning rate\n",
    "    for p in rnn.parameters():\n",
    "        p.data.add_(-learning_rate, p.grad.data)\n",
    "\n",
    "    return output, loss.item()"
   ]
  },
  {
   "cell_type": "markdown",
   "metadata": {},
   "source": [
    "現在我們只需要用一堆例子來運行它。由於功能返回輸出和損失，我們可以印出預測結果，並記錄繪圖的損失。打印每一個print_every的例子，並且取平均值。"
   ]
  },
  {
   "cell_type": "code",
   "execution_count": 13,
   "metadata": {},
   "outputs": [
    {
     "name": "stdout",
     "output_type": "stream",
     "text": [
      "5000 5% (0m 2s) 0.7688 來台 / social ✗ (china)\n",
      "10000 10% (0m 4s) 0.6292 大陸 / china ✓\n",
      "15000 15% (0m 5s) 0.5955 與 / social ✓\n",
      "20000 20% (0m 7s) 0.8112 墜谷 / china ✗ (social)\n",
      "25000 25% (0m 9s) 0.6952 董事長 / china ✗ (social)\n",
      "30000 30% (0m 11s) 0.7466 台北市 / china ✗ (social)\n",
      "35000 35% (0m 13s) 0.7133 陳宏育 / china ✗ (social)\n",
      "40000 40% (0m 15s) 0.7357 葉青林 / social ✗ (china)\n",
      "45000 45% (0m 17s) 0.7792 王錦義 / china ✗ (social)\n",
      "50000 50% (0m 18s) 0.7139 陳宏育 / china ✗ (social)\n",
      "55000 55% (0m 20s) 0.6426 在 / social ✓\n",
      "60000 60% (0m 22s) 0.7765 墜谷 / china ✗ (social)\n",
      "65000 65% (0m 24s) 0.7097 范錦美 / china ✗ (social)\n",
      "70000 70% (0m 26s) 0.6292 記者 / china ✓\n",
      "75000 75% (0m 28s) 0.7623 花蓮 / china ✗ (social)\n",
      "80000 80% (0m 30s) 0.7915 邱垂正 / social ✗ (china)\n",
      "85000 85% (0m 32s) 0.3599 中橫公路 / social ✓\n",
      "90000 90% (0m 34s) 0.6243 來台 / china ✓\n",
      "95000 95% (0m 36s) 0.6924 27 / social ✓\n",
      "100000 100% (0m 38s) 0.8271 王錦義 / china ✗ (social)\n"
     ]
    }
   ],
   "source": [
    "import time\n",
    "import math\n",
    "\n",
    "n_iters = 100000\n",
    "print_every = 5000\n",
    "plot_every = 1000\n",
    "\n",
    "\n",
    "\n",
    "# Keep track of losses for plotting\n",
    "current_loss = 0\n",
    "all_losses = []\n",
    "\n",
    "def timeSince(since):\n",
    "    now = time.time()\n",
    "    s = now - since\n",
    "    m = math.floor(s / 60)\n",
    "    s -= m * 60\n",
    "    return '%dm %ds' % (m, s)\n",
    "\n",
    "start = time.time()\n",
    "\n",
    "for iter in range(1, n_iters + 1):\n",
    "    category, line, category_tensor, line_tensor = randomTrainingExample()\n",
    "    output, loss = train(category_tensor, line_tensor)\n",
    "    current_loss += loss\n",
    "\n",
    "    # Print iter number, loss, name and guess\n",
    "    if iter % print_every == 0:\n",
    "        guess, guess_i = categoryFromOutput(output)\n",
    "        correct = '✓' if guess == category else '✗ (%s)' % category\n",
    "        print('%d %d%% (%s) %.4f %s / %s %s' % (iter, iter / n_iters * 100, timeSince(start), loss, line, guess, correct))\n",
    "\n",
    "    # Add current loss avg to list of losses\n",
    "    if iter % plot_every == 0:\n",
    "        all_losses.append(current_loss / plot_every)\n",
    "        current_loss = 0"
   ]
  },
  {
   "cell_type": "code",
   "execution_count": 32,
   "metadata": {},
   "outputs": [
    {
     "data": {
      "image/png": "[encoded data removed]",
      "text/plain": [
       "<Figure size 432x288 with 1 Axes>"
      ]
     },
     "metadata": {},
     "output_type": "display_data"
    },
    {
     "data": {
      "image/png": "[encoded data removed]",
      "text/plain": [
       "<Figure size 432x288 with 2 Axes>"
      ]
     },
     "metadata": {},
     "output_type": "display_data"
    }
   ],
   "source": [
    "import matplotlib.pyplot as plt\n",
    "import matplotlib.ticker as ticker\n",
    "\n",
    "plt.figure()\n",
    "plt.plot(all_losses)\n",
    "\n",
    "# 建立混淆矩陣\n",
    "confusion = torch.zeros(n_categories, n_categories)\n",
    "n_confusion = 10000\n",
    "\n",
    "# 回傳輸出\n",
    "def evaluate(line_tensor):\n",
    "    hidden = rnn.initHidden()\n",
    "\n",
    "    for i in range(line_tensor.size()[0]):\n",
    "        output, hidden = rnn(line_tensor[i], hidden)\n",
    "\n",
    "    return output\n",
    "\n",
    "# 檢視正確猜到的紀錄\n",
    "for i in range(n_confusion):\n",
    "    category, line, category_tensor, line_tensor = randomTrainingExample()\n",
    "    output = evaluate(line_tensor)\n",
    "    guess, guess_i = categoryFromOutput(output)\n",
    "    category_i = all_categories.index(category)\n",
    "    confusion[category_i][guess_i] += 1\n",
    "\n",
    "# 進行歸一化（變成0~1）\n",
    "for i in range(n_categories):\n",
    "    confusion[i] = confusion[i] / confusion[i].sum()\n",
    "\n",
    "# 畫圖\n",
    "fig = plt.figure()\n",
    "ax = fig.add_subplot(111)\n",
    "cax = ax.matshow(confusion.numpy())\n",
    "fig.colorbar(cax)\n",
    "\n",
    "# 設定xy軸\n",
    "ax.set_xticklabels([''] + all_categories, rotation=90)\n",
    "ax.set_yticklabels([''] + all_categories)\n",
    "\n",
    "# 建立標籤\n",
    "ax.xaxis.set_major_locator(ticker.MultipleLocator(1))\n",
    "ax.yaxis.set_major_locator(ticker.MultipleLocator(1))\n",
    "\n",
    "plt.show()"
   ]
  },
  {
   "cell_type": "code",
   "execution_count": 42,
   "metadata": {},
   "outputs": [
    {
     "name": "stdout",
     "output_type": "stream",
     "text": [
      "\n",
      "> 中橫公路\n",
      "social\n"
     ]
    }
   ],
   "source": [
    "def predict(input_line, n_predictions=1):\n",
    "    print('\\n> %s' % input_line)\n",
    "    with torch.no_grad():\n",
    "        output = evaluate(lineToTensor(input_line))\n",
    "\n",
    "        # 獲得N個類別\n",
    "        topv, topi = output.topk(n_predictions, 1, True)\n",
    "        predictions = []\n",
    "\n",
    "        for i in range(n_predictions):\n",
    "            value = topv[0][i].item()\n",
    "            category_index = topi[0][i].item()\n",
    "            print(all_categories[category_index])\n",
    "            #print('(%.2f) %s' % (value, all_categories[category_index]))\n",
    "            predictions.append([value, all_categories[category_index]])\n",
    "\n",
    "predict('中橫公路')"
   ]
  },
  {
   "cell_type": "code",
   "execution_count": null,
   "metadata": {
    "collapsed": true
   },
   "outputs": [],
   "source": []
  }
 ],
 "metadata": {
  "kernelspec": {
   "display_name": "Python 3",
   "language": "python",
   "name": "python3"
  },
  "language_info": {
   "codemirror_mode": {
    "name": "ipython",
    "version": 3
   },
   "file_extension": ".py",
   "mimetype": "text/x-python",
   "name": "python",
   "nbconvert_exporter": "python",
   "pygments_lexer": "ipython3",
   "version": "3.6.3"
  }
 },
 "nbformat": 4,
 "nbformat_minor": 2
}
